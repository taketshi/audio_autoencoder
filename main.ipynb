{
 "cells": [
  {
   "cell_type": "markdown",
   "metadata": {},
   "source": [
    "## Libraries"
   ]
  },
  {
   "cell_type": "code",
   "execution_count": 17,
   "metadata": {},
   "outputs": [],
   "source": [
    "from SoundDSConv import SoundDSConv\n",
    "from AutoEncoderConv import AutoEncoderConv\n",
    "\n",
    "import torch\n",
    "from torch.utils.data import random_split\n",
    "import torchaudio\n",
    "from torchaudio import transforms\n",
    "import os\n",
    "import pandas as pd\n",
    "import matplotlib.pyplot as plt"
   ]
  },
  {
   "cell_type": "markdown",
   "metadata": {},
   "source": [
    "## Data Import"
   ]
  },
  {
   "cell_type": "code",
   "execution_count": 2,
   "metadata": {},
   "outputs": [],
   "source": [
    "path_do_data_dir = 'DATA/'\n",
    "\n",
    "# Get the list of files in the 'Piano Loops' directory using os.listdir()\n",
    "piano_file_list = [path_do_data_dir + 'Piano Loops/' + filename for filename in os.listdir(path_do_data_dir + 'Piano Loops')]\n",
    "\n",
    "# Create a pandas DataFrame with the \"path_to_data\" and \"Instrument\" columns for \"Piano\" entries\n",
    "piano_df = pd.DataFrame({\"path_to_data\": piano_file_list, \"Instrument\": \"Piano\"})\n",
    "\n",
    "# Get the list of files in the 'Guitar Loops' directory using os.listdir()\n",
    "guitar_file_list = [path_do_data_dir + 'Guitar Loops/' + filename for filename in os.listdir(path_do_data_dir + 'Guitar Loops')]\n",
    "\n",
    "# Create a DataFrame with the \"path_to_data\" and \"Instrument\" columns for \"Guitar\" entries\n",
    "guitar_df = pd.DataFrame({\"path_to_data\": guitar_file_list, \"Instrument\": \"Guitar\"})\n"
   ]
  },
  {
   "cell_type": "code",
   "execution_count": 3,
   "metadata": {},
   "outputs": [],
   "source": [
    "# Create Datasets\n",
    "sample_rate = 8000\n",
    "duration = 4\n",
    "piano_ds = SoundDSConv(piano_df, sr = sample_rate, duration = duration)\n",
    "guitar_ds = SoundDSConv(guitar_df, sr = sample_rate, duration = duration)\n",
    "\n",
    "# Split train\n",
    "piano_ds_train, piano_ds_test = random_split(piano_ds, [len(piano_ds) - 2, 2])\n",
    "guitar_ds_train, guitar_ds_test = random_split(guitar_ds, [len(guitar_ds) - 2, 2])"
   ]
  },
  {
   "cell_type": "markdown",
   "metadata": {},
   "source": [
    "## Shape of dataset"
   ]
  },
  {
   "cell_type": "code",
   "execution_count": 4,
   "metadata": {},
   "outputs": [
    {
     "name": "stdout",
     "output_type": "stream",
     "text": [
      "torch.Size([1, 513, 94])\n"
     ]
    }
   ],
   "source": [
    "print(piano_ds[0].shape)"
   ]
  },
  {
   "cell_type": "markdown",
   "metadata": {},
   "source": [
    "## Create Models"
   ]
  },
  {
   "cell_type": "code",
   "execution_count": 5,
   "metadata": {},
   "outputs": [],
   "source": [
    "encoder_layers = {'channels': [1, 7, 16],\n",
    "                  'kernel_conv': [5, 5],\n",
    "                  'padding': [1, 1],\n",
    "                  'stride_conv': [1,1],\n",
    "                  'kernel_pool': [2, 2],\n",
    "                  'stride_pool': [2, 2]}\n",
    "\n",
    "decoder_layers = {'channels': [16, 7, 1],\n",
    "                  'kernel': [5,(5,2)],\n",
    "                  'padding': [0, 0],\n",
    "                  'stride':[2,2]}\n",
    "\n",
    "autoencoder_piano = AutoEncoderConv(encoder_layers, decoder_layers)\n",
    "autoencoder_guitar = AutoEncoderConv(encoder_layers, decoder_layers)"
   ]
  },
  {
   "cell_type": "code",
   "execution_count": 6,
   "metadata": {},
   "outputs": [
    {
     "name": "stdout",
     "output_type": "stream",
     "text": [
      "AutoEncoderConv(\n",
      "  (encoder): Sequential(\n",
      "    (0): Conv2d(1, 7, kernel_size=(5, 5), stride=(1, 1), padding=(1, 1))\n",
      "    (1): LeakyReLU(negative_slope=0.01)\n",
      "    (2): MaxPool2d(kernel_size=2, stride=2, padding=0, dilation=1, ceil_mode=False)\n",
      "    (3): Conv2d(7, 16, kernel_size=(5, 5), stride=(1, 1), padding=(1, 1))\n",
      "    (4): LeakyReLU(negative_slope=0.01)\n",
      "    (5): MaxPool2d(kernel_size=2, stride=2, padding=0, dilation=1, ceil_mode=False)\n",
      "  )\n",
      "  (decoder): Sequential(\n",
      "    (0): ConvTranspose2d(16, 7, kernel_size=(5, 5), stride=(2, 2))\n",
      "    (1): ReLU()\n",
      "    (2): ConvTranspose2d(7, 1, kernel_size=(5, 2), stride=(2, 2))\n",
      "  )\n",
      ")\n"
     ]
    }
   ],
   "source": [
    "print(autoencoder_piano)"
   ]
  },
  {
   "cell_type": "markdown",
   "metadata": {},
   "source": [
    "## Training (or loading) the model"
   ]
  },
  {
   "cell_type": "code",
   "execution_count": 7,
   "metadata": {},
   "outputs": [
    {
     "data": {
      "text/plain": [
       "<All keys matched successfully>"
      ]
     },
     "execution_count": 7,
     "metadata": {},
     "output_type": "execute_result"
    }
   ],
   "source": [
    "# loss_piano = autoencoder_piano.train(piano_ds_train, batch_size = 10, epochs = 50, lr = 0.001, criterion = 'mae',\n",
    "#                          optimizer = 'adam', reg = 'l1', verbose = 40)\n",
    "\n",
    "# loss_guitar = autoencoder_guitar.train(guitar_ds_train, batch_size = 10, epochs = 50, lr = 0.001, criterion = 'mae',\n",
    "#                          optimizer = 'adam', reg = 'l1', verbose = 40)\n",
    "\n",
    "# # Saving the model\n",
    "# torch.save(autoencoder_piano.state_dict(), 'piano_params.pth')\n",
    "# torch.save(autoencoder_guitar.state_dict(), 'guitar_params.pth')\n",
    "\n",
    "\n",
    "# Or Loading the model\n",
    "autoencoder_piano.load_state_dict(torch.load('piano_params.pth'))\n",
    "autoencoder_guitar.load_state_dict(torch.load('guitar_params.pth'))"
   ]
  },
  {
   "cell_type": "markdown",
   "metadata": {},
   "source": [
    "## Plotting the error\n",
    "Comment if the parameters are loaded instead of trained"
   ]
  },
  {
   "cell_type": "code",
   "execution_count": 8,
   "metadata": {},
   "outputs": [],
   "source": [
    "# fig = plt.figure(figsize=(10, 5))\n",
    "\n",
    "# # Add piano losses\n",
    "# fig.add_subplot(1, 2, 1)\n",
    "# plt.plot(loss_piano)\n",
    "# plt.title('Piano Loss')\n",
    "\n",
    "# # Add guitar losses\n",
    "# fig.add_subplot(1, 2, 2)\n",
    "# plt.plot(loss_guitar)\n",
    "# plt.title('Guitar Loss')\n",
    "\n",
    "# plt.show()"
   ]
  },
  {
   "cell_type": "markdown",
   "metadata": {},
   "source": [
    "## Freezing the models parameters"
   ]
  },
  {
   "cell_type": "code",
   "execution_count": 9,
   "metadata": {},
   "outputs": [],
   "source": [
    "# Freeze the parameters of the autoencoder\n",
    "for param in autoencoder_piano.parameters():\n",
    "    param.requires_grad = False\n",
    "\n",
    "for param in autoencoder_guitar.parameters():\n",
    "    param.requires_grad = False"
   ]
  },
  {
   "cell_type": "markdown",
   "metadata": {},
   "source": [
    "## Ear testing the autoencoder (piano)"
   ]
  },
  {
   "cell_type": "code",
   "execution_count": 10,
   "metadata": {},
   "outputs": [],
   "source": [
    "# From spectrogram to waveform\n",
    "def recover_waveform(spec):\n",
    "        griffin_lim = transforms.GriffinLim(n_fft=1024,\n",
    "                                             hop_length=513)\n",
    "\n",
    "        rec_waveform = griffin_lim(spec)\n",
    "\n",
    "        return rec_waveform"
   ]
  },
  {
   "cell_type": "code",
   "execution_count": 11,
   "metadata": {},
   "outputs": [],
   "source": [
    "# Predicting\n",
    "testing = piano_ds_test[1]\n",
    "testing_out = autoencoder_piano(testing).clamp(min = 0)\n",
    "\n",
    "# Reshaping\n",
    "testing_out_shaped = testing_out.reshape(1, piano_ds.spec_size[0], piano_ds.spec_size[1]).detach()\n",
    "testing_shaped = testing.reshape(1, piano_ds.spec_size[0], piano_ds.spec_size[1]).detach()\n",
    "\n",
    "# Capping minimum value\n",
    "testing_out_shaped = testing_out_shaped.clamp(min = 0.0)\n",
    "\n",
    "# Recovering waveform\n",
    "in_wave = recover_waveform(testing_shaped)\n",
    "out_wave = recover_waveform(testing_out_shaped)\n",
    "\n",
    "# Saving audio\n",
    "input_path = \"testing_input.wav\"\n",
    "output_path = \"testing_ouput.wav\"\n",
    "torchaudio.save(input_path, in_wave, sample_rate)\n",
    "torchaudio.save(output_path, out_wave, sample_rate)"
   ]
  },
  {
   "cell_type": "markdown",
   "metadata": {},
   "source": [
    "### Comparing spectrograms (piano)"
   ]
  },
  {
   "cell_type": "code",
   "execution_count": 12,
   "metadata": {},
   "outputs": [
    {
     "data": {
      "image/png": "[encoded data removed]",
      "text/plain": [
       "<Figure size 1000x1000 with 2 Axes>"
      ]
     },
     "metadata": {},
     "output_type": "display_data"
    }
   ],
   "source": [
    "# Reshape to 2D\n",
    "testing_shaped = testing_shaped.reshape(piano_ds.spec_size[0], piano_ds.spec_size[1])\n",
    "testing_out_shaped = testing_out_shaped.reshape(piano_ds.spec_size[0], piano_ds.spec_size[1])\n",
    "\n",
    "# Plotting\n",
    "fig = plt.figure(figsize=(10, 10))\n",
    "\n",
    "# Original\n",
    "fig.add_subplot(1, 2, 1)\n",
    "plt.imshow(testing_shaped)\n",
    "plt.title('Input')\n",
    "\n",
    "# Output\n",
    "fig.add_subplot(1, 2, 2)\n",
    "plt.imshow(testing_out_shaped)\n",
    "plt.title('Output')\n",
    "\n",
    "plt.show()\n"
   ]
  },
  {
   "cell_type": "markdown",
   "metadata": {},
   "source": [
    "# Timbre Modification\n",
    "If we pass a guitar sample through the piano AE, we will hopefully get the same notes, but with a piano timbre (and vice-versa). When listening to the actual result, you hear a slight modification of the timbre, however not enough to actually resemble the other instrument."
   ]
  },
  {
   "cell_type": "code",
   "execution_count": 13,
   "metadata": {},
   "outputs": [],
   "source": [
    "# Pick a guitar sample\n",
    "guitar_test = guitar_ds_test[0]\n",
    "# Output through piano autoencoder\n",
    "guitar_to_piano = autoencoder_piano(guitar_test).clamp(min = 0)\n",
    "\n",
    "# Recover waveform\n",
    "guitar_to_piano_wave = recover_waveform(guitar_to_piano.reshape(1, guitar_ds.spec_size[0], guitar_ds.spec_size[1]).detach())\n",
    "guitar_test_wave = recover_waveform(guitar_test.reshape(1, guitar_ds.spec_size[0], guitar_ds.spec_size[1]).detach())\n",
    "\n",
    "torchaudio.save('guitar_original.wav', guitar_test_wave, sample_rate)\n",
    "torchaudio.save('guitar_through_piano.wav', guitar_to_piano_wave , sample_rate)"
   ]
  },
  {
   "cell_type": "markdown",
   "metadata": {},
   "source": [
    "# Passing a noisy piano\n",
    "Adding noise to a sample and passing it through the autoencoder should remove the noise. In fact, it does remove some noise, however, it also muffles the sound a little."
   ]
  },
  {
   "cell_type": "code",
   "execution_count": 14,
   "metadata": {},
   "outputs": [],
   "source": [
    "piano_test = piano_ds_test[0]\n",
    "piano_noisy = piano_test + torch.randn(piano_test.shape).clamp(min = 0)\n",
    "\n",
    "piano_noisy_out = autoencoder_piano(piano_noisy).clamp(min = 0)\n",
    "\n",
    "piano_test_wave = recover_waveform(piano_test.reshape(1, piano_ds.spec_size[0], piano_ds.spec_size[1]).detach())\n",
    "piano_noisy_wave = recover_waveform(piano_noisy.reshape(1, piano_ds.spec_size[0], piano_ds.spec_size[1]).detach())\n",
    "piano_out_wave = recover_waveform(piano_noisy_out.reshape(1, piano_ds.spec_size[0], piano_ds.spec_size[1]).detach())\n",
    "\n",
    "torchaudio.save('testing_piano.wav', piano_test_wave , sample_rate)\n",
    "torchaudio.save('testing_piano_noisy.wav', piano_noisy_wave , sample_rate)\n",
    "torchaudio.save('testing_piano_out.wav', piano_out_wave , sample_rate)"
   ]
  },
  {
   "cell_type": "markdown",
   "metadata": {},
   "source": [
    "# Mixed Signal Separation"
   ]
  },
  {
   "cell_type": "markdown",
   "metadata": {},
   "source": [
    "We're taking two different sounds, one which is a piano and the other a guitar. We then add them to make a mixed sound. A suggestion we saw is that if we consider only the decoder part of the autoencoder and perform backwards propagation on the input, using the mixed signal, we should be able to retrieve the original individual sounds."
   ]
  },
  {
   "cell_type": "markdown",
   "metadata": {},
   "source": [
    "This takes approximately 5 minutes to run"
   ]
  },
  {
   "cell_type": "code",
   "execution_count": 15,
   "metadata": {},
   "outputs": [],
   "source": [
    "# Mixing\n",
    "piano_solo = piano_ds_test[0]\n",
    "guitar_solo = guitar_ds_test[0]\n",
    "mix = piano_solo + guitar_solo\n",
    "\n",
    "# Saving the originals and mix\n",
    "piano_solo_wave = recover_waveform(piano_solo.reshape(1, piano_ds.spec_size[0], piano_ds.spec_size[1]).detach())\n",
    "guitar_solo_wave = recover_waveform(guitar_solo.reshape(1, guitar_ds.spec_size[0], guitar_ds.spec_size[1]).detach())\n",
    "mix_wave = recover_waveform(mix.reshape(1, guitar_ds.spec_size[0], guitar_ds.spec_size[1]).detach())\n",
    "\n",
    "torchaudio.save('piano_solo.wav', piano_solo_wave , sample_rate)\n",
    "torchaudio.save('guitar_solo.wav', guitar_solo_wave , sample_rate)\n",
    "torchaudio.save('mix.wav', mix_wave , sample_rate)\n",
    "\n",
    "# Backpropagation on the input\n",
    "rand_input = torch.rand(16, 126, 22)\n",
    "rand_input.requires_grad = True\n",
    "# Backpropagation of the input through the piano autoencoder\n",
    "mix_input_piano, losses_piano = autoencoder_piano.input_gen(output = mix, rand_input = rand_input, epochs = 50_000, \n",
    "                                              optimizer = 'adam', criterion = 'mse', lr = 0.05) \n",
    "# Backpropagation of the input through the guitar autoencoder\n",
    "mix_input_guitar, losses_guitar = autoencoder_guitar.input_gen(output = mix, rand_input = rand_input, epochs = 50_000, \n",
    "                                                optimizer = 'adam', criterion = 'mse', lr = 0.05) \n",
    "\n",
    "# Calculating the outputs\n",
    "mix_input_piano_output = autoencoder_piano.decoder(mix_input_piano).clamp(min = 0)\n",
    "mix_input_guitar_output = autoencoder_guitar.decoder(mix_input_guitar).clamp(min = 0)\n",
    "\n",
    "# Saving the outputs\n",
    "mix_input_piano_output_wave = recover_waveform(mix_input_piano_output.reshape(1, piano_ds.spec_size[0], piano_ds.spec_size[1]).detach())\n",
    "mix_input_guitar_output_wave = recover_waveform(mix_input_guitar_output.reshape(1, guitar_ds.spec_size[0], guitar_ds.spec_size[1]).detach())\n",
    "\n",
    "torchaudio.save('mix_input_piano_output.wav', mix_input_piano_output_wave , sample_rate)\n",
    "torchaudio.save('mix_input_guitar_output.wav', mix_input_guitar_output_wave , sample_rate)\n"
   ]
  },
  {
   "cell_type": "markdown",
   "metadata": {},
   "source": [
    "Even though the losses became really low, it seems that, at least with this model, the retrieval failed."
   ]
  },
  {
   "cell_type": "code",
   "execution_count": 16,
   "metadata": {},
   "outputs": [
    {
     "data": {
      "image/png": "[encoded data removed]",
      "text/plain": [
       "<Figure size 1000x500 with 2 Axes>"
      ]
     },
     "metadata": {},
     "output_type": "display_data"
    }
   ],
   "source": [
    "fig = plt.figure(figsize=(10, 5))\n",
    "\n",
    "# Add piano losses\n",
    "fig.add_subplot(1, 2, 1)\n",
    "plt.plot(losses_piano)\n",
    "plt.title('Piano Loss')\n",
    "\n",
    "# Add guitar losses\n",
    "fig.add_subplot(1, 2, 2)\n",
    "plt.plot(losses_guitar)\n",
    "plt.title('Guitar Loss')\n",
    "\n",
    "plt.show()"
   ]
  },
  {
   "cell_type": "code",
   "execution_count": null,
   "metadata": {},
   "outputs": [],
   "source": []
  }
 ],
 "metadata": {
  "kernelspec": {
   "display_name": "base",
   "language": "python",
   "name": "python3"
  },
  "language_info": {
   "codemirror_mode": {
    "name": "ipython",
    "version": 3
   },
   "file_extension": ".py",
   "mimetype": "text/x-python",
   "name": "python",
   "nbconvert_exporter": "python",
   "pygments_lexer": "ipython3",
   "version": "3.10.9"
  },
  "orig_nbformat": 4
 },
 "nbformat": 4,
 "nbformat_minor": 2
}
