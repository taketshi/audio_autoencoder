{
 "cells": [
  {
   "cell_type": "markdown",
   "metadata": {},
   "source": [
    "## Libraries"
   ]
  },
  {
   "cell_type": "code",
   "execution_count": 19,
   "metadata": {},
   "outputs": [],
   "source": [
    "from SoundDSConv import SoundDSConv\n",
    "from AutoEncoderConv import AutoEncoderConv\n",
    "\n",
    "import torch\n",
    "import torch.nn as nn\n",
    "from torch.utils.data import random_split, DataLoader\n",
    "import torchaudio\n",
    "from torchaudio import transforms\n",
    "import os\n",
    "import pandas as pd\n",
    "import matplotlib.pyplot as plt"
   ]
  },
  {
   "cell_type": "markdown",
   "metadata": {},
   "source": [
    "## Data Import"
   ]
  },
  {
   "cell_type": "code",
   "execution_count": 13,
   "metadata": {},
   "outputs": [],
   "source": [
    "path_do_data_dir = 'DATA/'\n",
    "\n",
    "# Get the list of files in the 'Piano Loops' directory using os.listdir()\n",
    "piano_file_list = [path_do_data_dir + 'Piano Loops/' + filename for filename in os.listdir(path_do_data_dir + 'Piano Loops')]\n",
    "\n",
    "# Create a pandas DataFrame with the \"path_to_data\" and \"Instrument\" columns for \"Piano\" entries\n",
    "piano_df = pd.DataFrame({\"path_to_data\": piano_file_list, \"Instrument\": \"Piano\"})\n",
    "\n",
    "# Get the list of files in the 'Guitar Loops' directory using os.listdir()\n",
    "guitar_file_list = [path_do_data_dir + 'Guitar Loops/' + filename for filename in os.listdir(path_do_data_dir + 'Guitar Loops')]\n",
    "\n",
    "# Create a DataFrame with the \"path_to_data\" and \"Instrument\" columns for \"Guitar\" entries\n",
    "guitar_df = pd.DataFrame({\"path_to_data\": guitar_file_list, \"Instrument\": \"Guitar\"})\n"
   ]
  },
  {
   "cell_type": "code",
   "execution_count": 14,
   "metadata": {},
   "outputs": [],
   "source": [
    "# Create Datasets\n",
    "sample_rate = 5000\n",
    "piano_ds = SoundDSConv(piano_df, sr = sample_rate, duration = 8)\n",
    "guitar_ds = SoundDSConv(guitar_df, sr = sample_rate, duration = 8)\n",
    "\n",
    "# Split train\n",
    "piano_ds_train, piano_ds_test = random_split(piano_ds, [len(piano_ds) - 2, 2])\n",
    "guitar_ds_train, guitar_ds_test = random_split(piano_ds, [len(piano_ds) - 2, 2])"
   ]
  },
  {
   "cell_type": "markdown",
   "metadata": {},
   "source": [
    "1. Change the random_split before because of leake"
   ]
  },
  {
   "cell_type": "markdown",
   "metadata": {},
   "source": [
    "## Check shape of dataset"
   ]
  },
  {
   "cell_type": "code",
   "execution_count": 15,
   "metadata": {},
   "outputs": [
    {
     "data": {
      "text/plain": [
       "torch.Size([1, 513, 78])"
      ]
     },
     "execution_count": 15,
     "metadata": {},
     "output_type": "execute_result"
    }
   ],
   "source": [
    "piano_ds[0].shape"
   ]
  },
  {
   "cell_type": "markdown",
   "metadata": {},
   "source": [
    "## Create Model"
   ]
  },
  {
   "cell_type": "code",
   "execution_count": 16,
   "metadata": {},
   "outputs": [],
   "source": [
    "encoder_layers = {'channels': [1, 5, 10],\n",
    "                  'kernel_conv': [3, 3],\n",
    "                  'padding': [1, 1],\n",
    "                  'stride_conv': [1,1],\n",
    "                  'kernel_pool': [2, 2],\n",
    "                  'stride_pool': [2, 2]}\n",
    "\n",
    "decoder_layers = {'channels': [10, 5, 1],\n",
    "                  'kernel': [2,(3,4)],\n",
    "                  'padding': [0, 0],\n",
    "                  'stride':[2,2]}\n",
    "\n",
    "autoencoder = AutoEncoderConv(encoder_layers, decoder_layers)"
   ]
  },
  {
   "cell_type": "code",
   "execution_count": 24,
   "metadata": {},
   "outputs": [
    {
     "name": "stdout",
     "output_type": "stream",
     "text": [
      "AutoEncoderConv(\n",
      "  (encoder): Sequential(\n",
      "    (0): Conv2d(1, 5, kernel_size=(3, 3), stride=(1, 1), padding=(1, 1))\n",
      "    (1): ReLU()\n",
      "    (2): MaxPool2d(kernel_size=2, stride=2, padding=0, dilation=1, ceil_mode=False)\n",
      "    (3): Conv2d(5, 10, kernel_size=(3, 3), stride=(1, 1), padding=(1, 1))\n",
      "    (4): ReLU()\n",
      "    (5): MaxPool2d(kernel_size=2, stride=2, padding=0, dilation=1, ceil_mode=False)\n",
      "  )\n",
      "  (decoder): Sequential(\n",
      "    (0): ConvTranspose2d(10, 5, kernel_size=(2, 2), stride=(2, 2))\n",
      "    (1): ReLU()\n",
      "    (2): ConvTranspose2d(5, 1, kernel_size=(3, 4), stride=(2, 2))\n",
      "  )\n",
      ")\n"
     ]
    }
   ],
   "source": [
    "print(autoencoder)"
   ]
  },
  {
   "cell_type": "markdown",
   "metadata": {},
   "source": [
    "## Train the model"
   ]
  },
  {
   "cell_type": "code",
   "execution_count": 17,
   "metadata": {},
   "outputs": [
    {
     "name": "stdout",
     "output_type": "stream",
     "text": [
      "Epoch: 1 | Batch number: 3 | Loss: 9060.2099609375 | Time: 0.45 s\n",
      "Epoch: 1 | Batch number: 6 | Loss: 4974.9296875 | Time: 0.33 s\n",
      "Epoch: 1 | Batch number: 9 | Loss: 22408.037109375 | Time: 0.28 s\n",
      "Epoch: 1 | Batch number: 12 | Loss: 5014.21044921875 | Time: 0.29 s\n",
      "Epoch: 1 | Batch number: 15 | Loss: 15103.5791015625 | Time: 0.29 s\n",
      "Epoch: 1 | Batch number: 18 | Loss: 3953.247314453125 | Time: 0.31 s\n",
      "Epoch: 2 | Batch number: 3 | Loss: 28262.673828125 | Time: 0.42 s\n",
      "Epoch: 2 | Batch number: 6 | Loss: 5513.2587890625 | Time: 0.26 s\n",
      "Epoch: 2 | Batch number: 9 | Loss: 3017.342529296875 | Time: 0.27 s\n",
      "Epoch: 2 | Batch number: 12 | Loss: 1671.165283203125 | Time: 0.24 s\n",
      "Epoch: 2 | Batch number: 15 | Loss: 3293.130859375 | Time: 0.27 s\n",
      "Epoch: 2 | Batch number: 18 | Loss: 3518.35791015625 | Time: 0.28 s\n",
      "Epoch: 3 | Batch number: 3 | Loss: 5847.16748046875 | Time: 0.43 s\n",
      "Epoch: 3 | Batch number: 6 | Loss: 1615.3184814453125 | Time: 0.28 s\n",
      "Epoch: 3 | Batch number: 9 | Loss: 1315.333984375 | Time: 0.27 s\n",
      "Epoch: 3 | Batch number: 12 | Loss: 1658.4212646484375 | Time: 0.24 s\n",
      "Epoch: 3 | Batch number: 15 | Loss: 3972.176513671875 | Time: 0.24 s\n",
      "Epoch: 3 | Batch number: 18 | Loss: 3559.318115234375 | Time: 0.29 s\n",
      "Epoch: 4 | Batch number: 3 | Loss: 12638.75 | Time: 0.4 s\n",
      "Epoch: 4 | Batch number: 6 | Loss: 2482.996337890625 | Time: 0.28 s\n",
      "Epoch: 4 | Batch number: 9 | Loss: 3657.342529296875 | Time: 0.27 s\n",
      "Epoch: 4 | Batch number: 12 | Loss: 20230.001953125 | Time: 0.27 s\n",
      "Epoch: 4 | Batch number: 15 | Loss: 6085.31201171875 | Time: 0.27 s\n",
      "Epoch: 4 | Batch number: 18 | Loss: 1843.701416015625 | Time: 0.26 s\n",
      "Epoch: 5 | Batch number: 3 | Loss: 3896.46044921875 | Time: 0.43 s\n",
      "Epoch: 5 | Batch number: 6 | Loss: 2349.0 | Time: 0.26 s\n",
      "Epoch: 5 | Batch number: 9 | Loss: 3825.4365234375 | Time: 0.28 s\n",
      "Epoch: 5 | Batch number: 12 | Loss: 13705.83984375 | Time: 0.28 s\n",
      "Epoch: 5 | Batch number: 15 | Loss: 21426.576171875 | Time: 0.29 s\n",
      "Epoch: 5 | Batch number: 18 | Loss: 2877.76708984375 | Time: 0.25 s\n",
      "Epoch: 6 | Batch number: 3 | Loss: 5053.9951171875 | Time: 0.45 s\n",
      "Epoch: 6 | Batch number: 6 | Loss: 1922.3209228515625 | Time: 0.27 s\n",
      "Epoch: 6 | Batch number: 9 | Loss: 11960.466796875 | Time: 0.27 s\n",
      "Epoch: 6 | Batch number: 12 | Loss: 12013.982421875 | Time: 0.28 s\n",
      "Epoch: 6 | Batch number: 15 | Loss: 4760.37353515625 | Time: 0.25 s\n",
      "Epoch: 6 | Batch number: 18 | Loss: 3682.911865234375 | Time: 0.26 s\n",
      "Epoch: 7 | Batch number: 3 | Loss: 2329.972900390625 | Time: 0.41 s\n",
      "Epoch: 7 | Batch number: 6 | Loss: 3475.20068359375 | Time: 0.28 s\n",
      "Epoch: 7 | Batch number: 9 | Loss: 4561.84130859375 | Time: 0.3 s\n",
      "Epoch: 7 | Batch number: 12 | Loss: 3280.386474609375 | Time: 0.27 s\n",
      "Epoch: 7 | Batch number: 15 | Loss: 1303.00146484375 | Time: 0.25 s\n",
      "Epoch: 7 | Batch number: 18 | Loss: 16054.65234375 | Time: 0.28 s\n",
      "Epoch: 8 | Batch number: 3 | Loss: 12783.833984375 | Time: 0.41 s\n",
      "Epoch: 8 | Batch number: 6 | Loss: 2796.294189453125 | Time: 0.23 s\n",
      "Epoch: 8 | Batch number: 9 | Loss: 2345.741943359375 | Time: 0.31 s\n",
      "Epoch: 8 | Batch number: 12 | Loss: 10642.3017578125 | Time: 0.33 s\n",
      "Epoch: 8 | Batch number: 15 | Loss: 4794.91650390625 | Time: 0.25 s\n",
      "Epoch: 8 | Batch number: 18 | Loss: 1093.26513671875 | Time: 0.25 s\n",
      "Epoch: 9 | Batch number: 3 | Loss: 11300.111328125 | Time: 0.43 s\n",
      "Epoch: 9 | Batch number: 6 | Loss: 13955.5478515625 | Time: 0.25 s\n",
      "Epoch: 9 | Batch number: 9 | Loss: 2720.766845703125 | Time: 0.23 s\n",
      "Epoch: 9 | Batch number: 12 | Loss: 18454.4453125 | Time: 0.27 s\n",
      "Epoch: 9 | Batch number: 15 | Loss: 4871.419921875 | Time: 0.27 s\n",
      "Epoch: 9 | Batch number: 18 | Loss: 2743.74755859375 | Time: 0.25 s\n",
      "Epoch: 10 | Batch number: 3 | Loss: 9880.236328125 | Time: 0.41 s\n",
      "Epoch: 10 | Batch number: 6 | Loss: 1013.44921875 | Time: 0.25 s\n",
      "Epoch: 10 | Batch number: 9 | Loss: 1335.304931640625 | Time: 0.23 s\n",
      "Epoch: 10 | Batch number: 12 | Loss: 8409.5439453125 | Time: 0.26 s\n",
      "Epoch: 10 | Batch number: 15 | Loss: 2062.61669921875 | Time: 0.25 s\n",
      "Epoch: 10 | Batch number: 18 | Loss: 13090.916015625 | Time: 0.28 s\n",
      "Epoch: 11 | Batch number: 3 | Loss: 1680.93017578125 | Time: 0.43 s\n",
      "Epoch: 11 | Batch number: 6 | Loss: 5675.4677734375 | Time: 0.3 s\n",
      "Epoch: 11 | Batch number: 9 | Loss: 2217.708984375 | Time: 0.41 s\n",
      "Epoch: 11 | Batch number: 12 | Loss: 3281.69482421875 | Time: 0.29 s\n",
      "Epoch: 11 | Batch number: 15 | Loss: 1653.5758056640625 | Time: 0.26 s\n",
      "Epoch: 11 | Batch number: 18 | Loss: 12574.3828125 | Time: 0.27 s\n",
      "Epoch: 12 | Batch number: 3 | Loss: 14422.2548828125 | Time: 0.43 s\n",
      "Epoch: 12 | Batch number: 6 | Loss: 2406.577392578125 | Time: 0.28 s\n",
      "Epoch: 12 | Batch number: 9 | Loss: 1482.8541259765625 | Time: 0.26 s\n",
      "Epoch: 12 | Batch number: 12 | Loss: 4911.57421875 | Time: 0.25 s\n",
      "Epoch: 12 | Batch number: 15 | Loss: 1125.5823974609375 | Time: 0.28 s\n",
      "Epoch: 12 | Batch number: 18 | Loss: 4416.15576171875 | Time: 0.25 s\n",
      "Epoch: 13 | Batch number: 3 | Loss: 1439.394287109375 | Time: 0.39 s\n",
      "Epoch: 13 | Batch number: 6 | Loss: 1614.26416015625 | Time: 0.29 s\n",
      "Epoch: 13 | Batch number: 9 | Loss: 2816.19189453125 | Time: 0.26 s\n",
      "Epoch: 13 | Batch number: 12 | Loss: 1416.7890625 | Time: 0.25 s\n",
      "Epoch: 13 | Batch number: 15 | Loss: 626.383056640625 | Time: 0.25 s\n",
      "Epoch: 13 | Batch number: 18 | Loss: 2951.787353515625 | Time: 0.3 s\n",
      "Epoch: 14 | Batch number: 3 | Loss: 16091.0302734375 | Time: 0.44 s\n",
      "Epoch: 14 | Batch number: 6 | Loss: 1703.4969482421875 | Time: 0.27 s\n",
      "Epoch: 14 | Batch number: 9 | Loss: 2318.879150390625 | Time: 0.27 s\n",
      "Epoch: 14 | Batch number: 12 | Loss: 1634.8431396484375 | Time: 0.24 s\n",
      "Epoch: 14 | Batch number: 15 | Loss: 1245.4603271484375 | Time: 0.24 s\n",
      "Epoch: 14 | Batch number: 18 | Loss: 675.7774047851562 | Time: 0.27 s\n",
      "Epoch: 15 | Batch number: 3 | Loss: 1609.9478759765625 | Time: 0.43 s\n",
      "Epoch: 15 | Batch number: 6 | Loss: 9192.0654296875 | Time: 0.29 s\n",
      "Epoch: 15 | Batch number: 9 | Loss: 11908.568359375 | Time: 0.41 s\n",
      "Epoch: 15 | Batch number: 12 | Loss: 12881.8291015625 | Time: 0.31 s\n",
      "Epoch: 15 | Batch number: 15 | Loss: 899.06298828125 | Time: 0.26 s\n",
      "Epoch: 15 | Batch number: 18 | Loss: 3046.197509765625 | Time: 0.28 s\n",
      "Epoch: 16 | Batch number: 3 | Loss: 946.2800903320312 | Time: 0.41 s\n",
      "Epoch: 16 | Batch number: 6 | Loss: 7355.13720703125 | Time: 0.27 s\n",
      "Epoch: 16 | Batch number: 9 | Loss: 6938.21826171875 | Time: 0.28 s\n",
      "Epoch: 16 | Batch number: 12 | Loss: 10932.6943359375 | Time: 0.26 s\n",
      "Epoch: 16 | Batch number: 15 | Loss: 2196.145751953125 | Time: 0.28 s\n",
      "Epoch: 16 | Batch number: 18 | Loss: 1927.677978515625 | Time: 0.25 s\n",
      "Epoch: 17 | Batch number: 3 | Loss: 9460.9072265625 | Time: 0.42 s\n",
      "Epoch: 17 | Batch number: 6 | Loss: 1101.676513671875 | Time: 0.25 s\n",
      "Epoch: 17 | Batch number: 9 | Loss: 2666.699462890625 | Time: 0.26 s\n",
      "Epoch: 17 | Batch number: 12 | Loss: 3120.866943359375 | Time: 0.29 s\n",
      "Epoch: 17 | Batch number: 15 | Loss: 8230.2900390625 | Time: 0.27 s\n",
      "Epoch: 17 | Batch number: 18 | Loss: 1567.39306640625 | Time: 0.26 s\n",
      "Epoch: 18 | Batch number: 3 | Loss: 1416.130126953125 | Time: 0.41 s\n",
      "Epoch: 18 | Batch number: 6 | Loss: 2748.265380859375 | Time: 0.27 s\n",
      "Epoch: 18 | Batch number: 9 | Loss: 1221.9984130859375 | Time: 0.26 s\n",
      "Epoch: 18 | Batch number: 12 | Loss: 8709.6845703125 | Time: 0.26 s\n",
      "Epoch: 18 | Batch number: 15 | Loss: 3575.905029296875 | Time: 0.26 s\n",
      "Epoch: 18 | Batch number: 18 | Loss: 1442.9998779296875 | Time: 0.25 s\n",
      "Epoch: 19 | Batch number: 3 | Loss: 6316.39990234375 | Time: 0.44 s\n",
      "Epoch: 19 | Batch number: 6 | Loss: 1672.6419677734375 | Time: 0.26 s\n",
      "Epoch: 19 | Batch number: 9 | Loss: 10590.5791015625 | Time: 0.26 s\n",
      "Epoch: 19 | Batch number: 12 | Loss: 9050.9462890625 | Time: 0.25 s\n",
      "Epoch: 19 | Batch number: 15 | Loss: 2342.395751953125 | Time: 0.26 s\n",
      "Epoch: 19 | Batch number: 18 | Loss: 1335.534912109375 | Time: 0.28 s\n",
      "Epoch: 20 | Batch number: 3 | Loss: 1065.5521240234375 | Time: 0.4 s\n",
      "Epoch: 20 | Batch number: 6 | Loss: 6171.9619140625 | Time: 0.27 s\n",
      "Epoch: 20 | Batch number: 9 | Loss: 1429.7744140625 | Time: 0.26 s\n",
      "Epoch: 20 | Batch number: 12 | Loss: 1511.6124267578125 | Time: 0.27 s\n",
      "Epoch: 20 | Batch number: 15 | Loss: 760.0513916015625 | Time: 0.26 s\n",
      "Epoch: 20 | Batch number: 18 | Loss: 4155.00390625 | Time: 0.28 s\n",
      "Epoch: 21 | Batch number: 3 | Loss: 6239.94873046875 | Time: 0.4 s\n",
      "Epoch: 21 | Batch number: 6 | Loss: 2978.731201171875 | Time: 0.26 s\n",
      "Epoch: 21 | Batch number: 9 | Loss: 6340.36181640625 | Time: 0.27 s\n",
      "Epoch: 21 | Batch number: 12 | Loss: 1264.7586669921875 | Time: 0.26 s\n",
      "Epoch: 21 | Batch number: 15 | Loss: 1344.58984375 | Time: 0.25 s\n",
      "Epoch: 21 | Batch number: 18 | Loss: 2780.193603515625 | Time: 0.3 s\n",
      "Epoch: 22 | Batch number: 3 | Loss: 7378.037109375 | Time: 0.43 s\n",
      "Epoch: 22 | Batch number: 6 | Loss: 6961.9580078125 | Time: 0.26 s\n",
      "Epoch: 22 | Batch number: 9 | Loss: 861.7327270507812 | Time: 0.27 s\n",
      "Epoch: 22 | Batch number: 12 | Loss: 1283.5181884765625 | Time: 0.25 s\n",
      "Epoch: 22 | Batch number: 15 | Loss: 6481.38134765625 | Time: 0.32 s\n",
      "Epoch: 22 | Batch number: 18 | Loss: 1390.016845703125 | Time: 0.26 s\n",
      "Epoch: 23 | Batch number: 3 | Loss: 7665.88671875 | Time: 0.42 s\n",
      "Epoch: 23 | Batch number: 6 | Loss: 1156.30859375 | Time: 0.24 s\n",
      "Epoch: 23 | Batch number: 9 | Loss: 662.9790649414062 | Time: 0.28 s\n",
      "Epoch: 23 | Batch number: 12 | Loss: 1225.0438232421875 | Time: 0.26 s\n",
      "Epoch: 23 | Batch number: 15 | Loss: 9108.3203125 | Time: 0.27 s\n",
      "Epoch: 23 | Batch number: 18 | Loss: 6142.35595703125 | Time: 0.3 s\n",
      "Epoch: 24 | Batch number: 3 | Loss: 2999.65087890625 | Time: 0.44 s\n",
      "Epoch: 24 | Batch number: 6 | Loss: 13958.0625 | Time: 0.27 s\n",
      "Epoch: 24 | Batch number: 9 | Loss: 1661.982666015625 | Time: 0.24 s\n",
      "Epoch: 24 | Batch number: 12 | Loss: 6204.6845703125 | Time: 0.27 s\n",
      "Epoch: 24 | Batch number: 15 | Loss: 800.069580078125 | Time: 0.27 s\n",
      "Epoch: 24 | Batch number: 18 | Loss: 1522.2269287109375 | Time: 0.25 s\n",
      "Epoch: 25 | Batch number: 3 | Loss: 2164.9189453125 | Time: 0.43 s\n",
      "Epoch: 25 | Batch number: 6 | Loss: 1687.3966064453125 | Time: 0.25 s\n",
      "Epoch: 25 | Batch number: 9 | Loss: 7214.30322265625 | Time: 0.25 s\n",
      "Epoch: 25 | Batch number: 12 | Loss: 1190.43212890625 | Time: 0.27 s\n",
      "Epoch: 25 | Batch number: 15 | Loss: 759.6461181640625 | Time: 0.26 s\n",
      "Epoch: 25 | Batch number: 18 | Loss: 5640.603515625 | Time: 0.29 s\n",
      "Epoch: 26 | Batch number: 3 | Loss: 625.193115234375 | Time: 0.41 s\n",
      "Epoch: 26 | Batch number: 6 | Loss: 2152.577392578125 | Time: 0.29 s\n",
      "Epoch: 26 | Batch number: 9 | Loss: 6935.6455078125 | Time: 0.27 s\n",
      "Epoch: 26 | Batch number: 12 | Loss: 988.917236328125 | Time: 0.26 s\n",
      "Epoch: 26 | Batch number: 15 | Loss: 2788.616943359375 | Time: 0.25 s\n",
      "Epoch: 26 | Batch number: 18 | Loss: 831.7999267578125 | Time: 0.26 s\n",
      "Epoch: 27 | Batch number: 3 | Loss: 1333.375244140625 | Time: 0.42 s\n",
      "Epoch: 27 | Batch number: 6 | Loss: 803.8907470703125 | Time: 0.25 s\n",
      "Epoch: 27 | Batch number: 9 | Loss: 996.0150146484375 | Time: 0.28 s\n",
      "Epoch: 27 | Batch number: 12 | Loss: 1699.1668701171875 | Time: 0.28 s\n",
      "Epoch: 27 | Batch number: 15 | Loss: 930.4855346679688 | Time: 0.26 s\n",
      "Epoch: 27 | Batch number: 18 | Loss: 5852.1513671875 | Time: 0.27 s\n",
      "Epoch: 28 | Batch number: 3 | Loss: 721.2947998046875 | Time: 0.4 s\n",
      "Epoch: 28 | Batch number: 6 | Loss: 551.65185546875 | Time: 0.28 s\n",
      "Epoch: 28 | Batch number: 9 | Loss: 1148.2791748046875 | Time: 0.26 s\n",
      "Epoch: 28 | Batch number: 12 | Loss: 1983.326171875 | Time: 0.25 s\n",
      "Epoch: 28 | Batch number: 15 | Loss: 4458.51708984375 | Time: 0.28 s\n",
      "Epoch: 28 | Batch number: 18 | Loss: 6057.787109375 | Time: 0.25 s\n",
      "Epoch: 29 | Batch number: 3 | Loss: 1278.229736328125 | Time: 0.42 s\n",
      "Epoch: 29 | Batch number: 6 | Loss: 655.2160034179688 | Time: 0.24 s\n",
      "Epoch: 29 | Batch number: 9 | Loss: 1150.7269287109375 | Time: 0.27 s\n",
      "Epoch: 29 | Batch number: 12 | Loss: 11449.8154296875 | Time: 0.27 s\n",
      "Epoch: 29 | Batch number: 15 | Loss: 2332.25439453125 | Time: 0.27 s\n",
      "Epoch: 29 | Batch number: 18 | Loss: 1808.576904296875 | Time: 0.3 s\n",
      "Epoch: 30 | Batch number: 3 | Loss: 543.648193359375 | Time: 0.41 s\n",
      "Epoch: 30 | Batch number: 6 | Loss: 3342.24609375 | Time: 0.3 s\n",
      "Epoch: 30 | Batch number: 9 | Loss: 6533.2197265625 | Time: 0.28 s\n",
      "Epoch: 30 | Batch number: 12 | Loss: 2225.07568359375 | Time: 0.27 s\n",
      "Epoch: 30 | Batch number: 15 | Loss: 1770.17626953125 | Time: 0.25 s\n",
      "Epoch: 30 | Batch number: 18 | Loss: 4903.865234375 | Time: 0.26 s\n"
     ]
    }
   ],
   "source": [
    "loss = autoencoder.train(piano_ds_train, batch_size = 5, epochs = 30, lr = 0.001, optimizer = 'adam', verbose = 3)"
   ]
  },
  {
   "cell_type": "markdown",
   "metadata": {},
   "source": [
    "## Plotting the error"
   ]
  },
  {
   "cell_type": "code",
   "execution_count": 20,
   "metadata": {},
   "outputs": [
    {
     "data": {
      "image/png": "[encoded data removed]",
      "text/plain": [
       "<Figure size 640x480 with 1 Axes>"
      ]
     },
     "metadata": {},
     "output_type": "display_data"
    }
   ],
   "source": [
    "plt.plot(loss)\n",
    "plt.show()"
   ]
  },
  {
   "cell_type": "markdown",
   "metadata": {},
   "source": [
    "## Testing it"
   ]
  },
  {
   "cell_type": "code",
   "execution_count": 21,
   "metadata": {},
   "outputs": [],
   "source": [
    "# From spectrogram to waveform\n",
    "def recover_waveform(spec):\n",
    "        griffin_lim = transforms.GriffinLim(n_fft=1024,\n",
    "                                             hop_length=512)\n",
    "\n",
    "        rec_waveform = griffin_lim(spec)\n",
    "\n",
    "        return rec_waveform"
   ]
  },
  {
   "cell_type": "code",
   "execution_count": 23,
   "metadata": {},
   "outputs": [],
   "source": [
    "# Predicting\n",
    "testing = piano_ds_test[0]\n",
    "testing_out = autoencoder(testing)\n",
    "\n",
    "# Reshaping\n",
    "testing_out_shaped = testing_out.reshape(1, piano_ds.spec_size[0], piano_ds.spec_size[1]).detach()\n",
    "testing_shaped = testing.reshape(1, piano_ds.spec_size[0], piano_ds.spec_size[1]).detach()\n",
    "\n",
    "# Capping minimum value\n",
    "testing_out_shaped = testing_out_shaped.clamp(min = 0.0)\n",
    "\n",
    "in_wave = recover_waveform(testing_shaped)\n",
    "out_wave = recover_waveform(testing_out_shaped)\n",
    "\n",
    "input_path = \"input_audio.wav\"\n",
    "output_path = \"output_audio.wav\"\n",
    "torchaudio.save(input_path, in_wave, sample_rate)\n",
    "torchaudio.save(output_path, out_wave, sample_rate)"
   ]
  },
  {
   "cell_type": "code",
   "execution_count": null,
   "metadata": {},
   "outputs": [],
   "source": []
  },
  {
   "cell_type": "code",
   "execution_count": null,
   "metadata": {},
   "outputs": [],
   "source": []
  }
 ],
 "metadata": {
  "kernelspec": {
   "display_name": "base",
   "language": "python",
   "name": "python3"
  },
  "language_info": {
   "codemirror_mode": {
    "name": "ipython",
    "version": 3
   },
   "file_extension": ".py",
   "mimetype": "text/x-python",
   "name": "python",
   "nbconvert_exporter": "python",
   "pygments_lexer": "ipython3",
   "version": "3.10.9"
  },
  "orig_nbformat": 4
 },
 "nbformat": 4,
 "nbformat_minor": 2
}
