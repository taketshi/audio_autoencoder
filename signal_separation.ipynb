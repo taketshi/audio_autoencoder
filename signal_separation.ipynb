{
 "cells": [
  {
   "cell_type": "markdown",
   "metadata": {},
   "source": [
    "## Import libraries and dataset"
   ]
  },
  {
   "cell_type": "code",
   "execution_count": 1,
   "metadata": {},
   "outputs": [],
   "source": [
    "from SoundDS import SoundDS\n",
    "from AutoEncoder import AutoEncoder\n",
    "\n",
    "import torch\n",
    "import torch.nn as nn\n",
    "from torch.utils.data import DataLoader, random_split\n",
    "import torchaudio\n",
    "from torchaudio import transforms\n",
    "import os\n",
    "import pandas as pd\n",
    "import matplotlib.pyplot as plt"
   ]
  },
  {
   "cell_type": "code",
   "execution_count": 2,
   "metadata": {},
   "outputs": [],
   "source": [
    "path_do_data_dir = 'DATA/'\n",
    "\n",
    "# Get the list of files in the 'Piano Loops' directory using os.listdir()\n",
    "piano_file_list = [path_do_data_dir + 'Piano Loops/' + filename for filename in os.listdir(path_do_data_dir + 'Piano Loops')]\n",
    "\n",
    "# Create a pandas DataFrame with the \"path_to_data\" and \"Instrument\" columns for \"Piano\" entries\n",
    "piano_df = pd.DataFrame({\"path_to_data\": piano_file_list, \"Instrument\": \"Piano\"})\n",
    "\n",
    "# Get the list of files in the 'Guitar Loops' directory using os.listdir()\n",
    "guitar_file_list = [path_do_data_dir + 'Guitar Loops/' + filename for filename in os.listdir(path_do_data_dir + 'Guitar Loops')]\n",
    "\n",
    "# Create a DataFrame with the \"path_to_data\" and \"Instrument\" columns for \"Guitar\" entries\n",
    "guitar_df = pd.DataFrame({\"path_to_data\": guitar_file_list, \"Instrument\": \"Guitar\"})\n"
   ]
  },
  {
   "cell_type": "code",
   "execution_count": 3,
   "metadata": {},
   "outputs": [],
   "source": [
    "sample_rate = 5000\n",
    "piano_ds = SoundDS(piano_df, sr = sample_rate, duration = 7)\n",
    "guitar_ds = SoundDS(guitar_df, sr = sample_rate, duration = 7)\n",
    "\n",
    "# Create data loaders\n",
    "dl = DataLoader(guitar_ds, batch_size=1, shuffle=False)"
   ]
  },
  {
   "cell_type": "code",
   "execution_count": 4,
   "metadata": {},
   "outputs": [],
   "source": [
    "for data in dl:\n",
    "    pass"
   ]
  },
  {
   "cell_type": "code",
   "execution_count": 5,
   "metadata": {},
   "outputs": [
    {
     "data": {
      "text/plain": [
       "35397"
      ]
     },
     "execution_count": 5,
     "metadata": {},
     "output_type": "execute_result"
    }
   ],
   "source": [
    "size = data.shape[1]\n",
    "size"
   ]
  },
  {
   "cell_type": "markdown",
   "metadata": {},
   "source": [
    "## Define AutoEncoder"
   ]
  },
  {
   "cell_type": "code",
   "execution_count": 6,
   "metadata": {},
   "outputs": [],
   "source": [
    "enc_layers = [size, 8000, 3000, 1000, 800, 600 ]\n",
    "dec_layers = enc_layers[::-1]\n",
    "autoencoder_piano = AutoEncoder(enc_layers, dec_layers)"
   ]
  },
  {
   "cell_type": "code",
   "execution_count": 7,
   "metadata": {},
   "outputs": [],
   "source": [
    "piano_ds_train, piano_ds_test = random_split(piano_ds, [len(piano_ds) - 2, 2])\n",
    "guitar_ds_train, guitar_ds_test = random_split(piano_ds, [len(piano_ds) - 2, 2])\n"
   ]
  },
  {
   "cell_type": "code",
   "execution_count": 19,
   "metadata": {},
   "outputs": [
    {
     "name": "stdout",
     "output_type": "stream",
     "text": [
      "Epoch: 1 | Batch number: 3 | Loss: 5546.12158203125 | Time: 66.46 s\n",
      "Epoch: 1 | Batch number: 6 | Loss: 10698.16015625 | Time: 63.21 s\n",
      "Epoch: 2 | Batch number: 3 | Loss: 11957.8056640625 | Time: 92.5 s\n",
      "Epoch: 2 | Batch number: 6 | Loss: 12681.7392578125 | Time: 63.93 s\n",
      "Epoch: 3 | Batch number: 3 | Loss: 5114.39599609375 | Time: 90.15 s\n",
      "Epoch: 3 | Batch number: 6 | Loss: 7428.30126953125 | Time: 59.61 s\n",
      "Epoch: 4 | Batch number: 3 | Loss: 4376.86669921875 | Time: 85.0 s\n",
      "Epoch: 4 | Batch number: 6 | Loss: 3934.10693359375 | Time: 61.12 s\n",
      "Epoch: 5 | Batch number: 3 | Loss: 8133.42333984375 | Time: 89.19 s\n",
      "Epoch: 5 | Batch number: 6 | Loss: 4072.871826171875 | Time: 62.98 s\n",
      "Epoch: 6 | Batch number: 3 | Loss: 6831.65234375 | Time: 81.56 s\n",
      "Epoch: 6 | Batch number: 6 | Loss: 4786.06103515625 | Time: 59.27 s\n",
      "Epoch: 7 | Batch number: 3 | Loss: 7142.57421875 | Time: 80.62 s\n",
      "Epoch: 7 | Batch number: 6 | Loss: 4789.66943359375 | Time: 60.79 s\n",
      "Epoch: 8 | Batch number: 3 | Loss: 6418.0849609375 | Time: 77.52 s\n",
      "Epoch: 8 | Batch number: 6 | Loss: 4461.4853515625 | Time: 60.18 s\n",
      "Epoch: 9 | Batch number: 3 | Loss: 9960.6484375 | Time: 87.17 s\n",
      "Epoch: 9 | Batch number: 6 | Loss: 6757.53369140625 | Time: 72.07 s\n",
      "Epoch: 10 | Batch number: 3 | Loss: 5524.78466796875 | Time: 79.62 s\n",
      "Epoch: 10 | Batch number: 6 | Loss: 6242.400390625 | Time: 60.39 s\n",
      "Epoch: 11 | Batch number: 3 | Loss: 7451.7109375 | Time: 76.68 s\n",
      "Epoch: 11 | Batch number: 6 | Loss: 4955.5048828125 | Time: 56.95 s\n",
      "Epoch: 12 | Batch number: 3 | Loss: 5491.83544921875 | Time: 82.5 s\n",
      "Epoch: 12 | Batch number: 6 | Loss: 11378.552734375 | Time: 61.67 s\n",
      "Epoch: 13 | Batch number: 3 | Loss: 4672.36962890625 | Time: 79.11 s\n",
      "Epoch: 13 | Batch number: 6 | Loss: 6664.1044921875 | Time: 59.93 s\n",
      "Epoch: 14 | Batch number: 3 | Loss: 6008.50537109375 | Time: 80.44 s\n",
      "Epoch: 14 | Batch number: 6 | Loss: 4992.537109375 | Time: 58.78 s\n",
      "Epoch: 15 | Batch number: 3 | Loss: 7146.8798828125 | Time: 77.58 s\n",
      "Epoch: 15 | Batch number: 6 | Loss: 10711.5986328125 | Time: 59.82 s\n",
      "Epoch: 16 | Batch number: 3 | Loss: 9010.7841796875 | Time: 79.97 s\n",
      "Epoch: 16 | Batch number: 6 | Loss: 9600.2060546875 | Time: 60.02 s\n",
      "Epoch: 17 | Batch number: 3 | Loss: 9477.5908203125 | Time: 93.24 s\n",
      "Epoch: 17 | Batch number: 6 | Loss: 5326.7734375 | Time: 70.72 s\n",
      "Epoch: 18 | Batch number: 3 | Loss: 2599.28759765625 | Time: 99.7 s\n",
      "Epoch: 18 | Batch number: 6 | Loss: 3006.05908203125 | Time: 60.94 s\n",
      "Epoch: 19 | Batch number: 3 | Loss: 10896.5869140625 | Time: 84.33 s\n",
      "Epoch: 19 | Batch number: 6 | Loss: 4766.23388671875 | Time: 64.06 s\n",
      "Epoch: 20 | Batch number: 3 | Loss: 4663.4208984375 | Time: 92.93 s\n",
      "Epoch: 20 | Batch number: 6 | Loss: 4199.0361328125 | Time: 68.43 s\n"
     ]
    },
    {
     "data": {
      "text/plain": [
       "[3708.588134765625,\n",
       " 3682.043701171875,\n",
       " 27199.0390625,\n",
       " 2887.0576171875,\n",
       " 1114.8427734375,\n",
       " 2278.866455078125,\n",
       " 4264.91796875,\n",
       " 31750.251953125,\n",
       " 12861.388671875,\n",
       " 4213.5458984375,\n",
       " 6620.7275390625,\n",
       " 1182.635986328125,\n",
       " 2816.661865234375,\n",
       " 6807.6953125,\n",
       " 2864.53955078125,\n",
       " 5633.88134765625,\n",
       " 51448.171875,\n",
       " 2656.62158203125,\n",
       " 5029.58984375,\n",
       " 9075.98046875]"
      ]
     },
     "execution_count": 19,
     "metadata": {},
     "output_type": "execute_result"
    }
   ],
   "source": [
    "autoencoder_piano.train(piano_ds_train, lr = 0.0001, batch_size = 16, epochs = 20, verbose = 3, optimizer = 'adam')"
   ]
  },
  {
   "cell_type": "code",
   "execution_count": 9,
   "metadata": {},
   "outputs": [],
   "source": [
    "def recover_waveform(spec):\n",
    "        griffin_lim = transforms.GriffinLim()\n",
    "\n",
    "        rec_waveform = griffin_lim(spec)\n",
    "\n",
    "        return rec_waveform"
   ]
  },
  {
   "cell_type": "code",
   "execution_count": 20,
   "metadata": {},
   "outputs": [],
   "source": [
    "out = autoencoder_piano(piano_ds_test[0])\n",
    "\n",
    "out_shaped = out.reshape(1, piano_ds.spec_size[0], piano_ds.spec_size[1]).detach()\n",
    "out_wave = recover_waveform(out_shaped)\n",
    "\n",
    "output_path = \"output_audio.wav\"\n",
    "torchaudio.save(output_path, out_wave, sample_rate)"
   ]
  },
  {
   "cell_type": "code",
   "execution_count": 21,
   "metadata": {},
   "outputs": [
    {
     "data": {
      "text/plain": [
       "tensor([[nan, nan, nan,  ..., nan, nan, nan]])"
      ]
     },
     "execution_count": 21,
     "metadata": {},
     "output_type": "execute_result"
    }
   ],
   "source": [
    "out_wave"
   ]
  },
  {
   "cell_type": "code",
   "execution_count": 17,
   "metadata": {},
   "outputs": [
    {
     "data": {
      "text/plain": [
       "tensor([1.3635e-01, 1.5399e-01, 1.7156e-01,  ..., 3.7641e-06, 4.7569e-09,\n",
       "        3.8656e-07])"
      ]
     },
     "execution_count": 17,
     "metadata": {},
     "output_type": "execute_result"
    }
   ],
   "source": [
    "piano_ds_test[0]"
   ]
  },
  {
   "cell_type": "code",
   "execution_count": 23,
   "metadata": {},
   "outputs": [
    {
     "data": {
      "image/png": "[encoded data removed]",
      "text/plain": [
       "<Figure size 640x480 with 2 Axes>"
      ]
     },
     "metadata": {},
     "output_type": "display_data"
    }
   ],
   "source": [
    "fig = plt.figure()\n",
    "\n",
    "fig.add_subplot(1,2,2)\n",
    "plt.imshow(out_shaped.detach().numpy()[0])\n",
    "plt.title('Prediction')\n",
    "\n",
    "fig.add_subplot(1,2,1)\n",
    "plt.imshow(piano_ds_test[1].numpy().reshape(*piano_ds.spec_size))\n",
    "plt.title('Original')\n",
    "plt.show()"
   ]
  },
  {
   "cell_type": "code",
   "execution_count": 25,
   "metadata": {},
   "outputs": [],
   "source": [
    "torch.save(autoencoder_piano.state_dict(), 'model_parameters_piano_8000_3000_1000_800_600.pth')"
   ]
  },
  {
   "cell_type": "code",
   "execution_count": null,
   "metadata": {},
   "outputs": [],
   "source": []
  }
 ],
 "metadata": {
  "kernelspec": {
   "display_name": "pytorch",
   "language": "python",
   "name": "python3"
  },
  "language_info": {
   "codemirror_mode": {
    "name": "ipython",
    "version": 3
   },
   "file_extension": ".py",
   "mimetype": "text/x-python",
   "name": "python",
   "nbconvert_exporter": "python",
   "pygments_lexer": "ipython3",
   "version": "3.10.9"
  },
  "orig_nbformat": 4
 },
 "nbformat": 4,
 "nbformat_minor": 2
}
